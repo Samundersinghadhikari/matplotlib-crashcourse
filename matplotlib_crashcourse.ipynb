{
  "cells": [
    {
      "cell_type": "markdown",
      "metadata": {
        "id": "view-in-github",
        "colab_type": "text"
      },
      "source": [
        "<a href=\"https://colab.research.google.com/github/Samundersinghadhikari/matplotlib-crashcourse/blob/main/matplotlib_crashcourse.ipynb\" target=\"_parent\"><img src=\"https://colab.research.google.com/assets/colab-badge.svg\" alt=\"Open In Colab\"/></a>"
      ]
    },
    {
      "cell_type": "markdown",
      "source": [
        "\n",
        " **Learn MatPlotLib By This NoteBook**\n",
        "\n"
      ],
      "metadata": {
        "id": "a5Mc4wQkHz7m"
      }
    },
    {
      "cell_type": "code",
      "source": [
        "# importing matplotlib as plt\n",
        "import matplotlib.pyplot as plt"
      ],
      "metadata": {
        "id": "LYqd5m0lHQwE"
      },
      "execution_count": null,
      "outputs": []
    },
    {
      "cell_type": "code",
      "source": [
        "import matplotlib.pyplot as plt\n",
        "# importing numpy as np\n",
        "import numpy as np\n",
        "# giving x and y pos\n",
        "xpoints = np.array([0, 6])\n",
        "ypoints = np.array([0, 250])\n",
        "# ploting our map\n",
        "plt.plot(xpoints, ypoints)\n",
        "# showing\n",
        "plt.show()"
      ],
      "metadata": {
        "id": "7Ylchz4lIsc-"
      },
      "execution_count": null,
      "outputs": []
    },
    {
      "cell_type": "code",
      "source": [
        "import matplotlib.pyplot as plt\n",
        "import numpy as np\n",
        "\n",
        "xpoints = np.array([1, 8])\n",
        "ypoints = np.array([3, 10])\n",
        "# Draw two points in the diagram, one at position (1, 3) and one in position (8, 10):\n",
        "plt.plot(xpoints, ypoints, 'o')\n",
        "plt.show()"
      ],
      "metadata": {
        "id": "BbRoqmvFJJ4D"
      },
      "execution_count": null,
      "outputs": []
    },
    {
      "cell_type": "code",
      "source": [
        "import matplotlib.pyplot as plt\n",
        "import numpy as np\n",
        "\n",
        "xpoints = np.array([1, 2, 6, 8])\n",
        "ypoints = np.array([3, 8, 1, 10])\n",
        "\n",
        "plt.plot(xpoints, ypoints)\n",
        "plt.show()\n",
        "# Draw a line in a diagram from position (1, 3) to (2, 8) then to (6, 1) and finally to position (8, 10)"
      ],
      "metadata": {
        "id": "MV50hiGZJjvQ"
      },
      "execution_count": null,
      "outputs": []
    },
    {
      "cell_type": "code",
      "source": [
        "import matplotlib.pyplot as plt\n",
        "import numpy as np\n",
        "# only define y\n",
        "ypoints = np.array([3, 8, 1, 10, 5, 7])\n",
        "\n",
        "plt.plot(ypoints)\n",
        "plt.show()\n",
        "# If we do not specify the points on the x-axis, they will get the default values 0, 1, 2, 3 (etc., depending on the length of the y-points."
      ],
      "metadata": {
        "id": "a9XSYCXLJ3Co"
      },
      "execution_count": null,
      "outputs": []
    },
    {
      "cell_type": "code",
      "source": [
        "import matplotlib.pyplot as plt\n",
        "import numpy as np\n",
        "\n",
        "ypoints = np.array([3, 8, 1, 10])\n",
        "# you can use the keyword argument marker to emphasize each point with a specified marker\n",
        "plt.plot(ypoints, marker = 'o')\n",
        "plt.show()"
      ],
      "metadata": {
        "id": "yrvb4ZEzKjeq"
      },
      "execution_count": null,
      "outputs": []
    },
    {
      "cell_type": "code",
      "source": [
        "# other marker\n",
        "# 'o'\tCircle\n",
        "# '*'\tStar\n",
        "# '.'\tPoint\n",
        "# ','\tPixel\n",
        "# 'x'\tX\n",
        "# 'X'\tX (filled)\n",
        "# '+'\tPlus\n",
        "# 'P'\tPlus (filled)\n",
        "# 's'\tSquare\n",
        "# 'D'\tDiamond\n",
        "# 'd'\tDiamond (thin)\n",
        "# 'p'\tPentagon\n",
        "# 'H'\tHexagon\n",
        "# 'h'\tHexagon\n",
        "# 'v'\tTriangle Down\n",
        "# '^'\tTriangle Up\n",
        "# '<'\tTriangle Left\n",
        "# '>'\tTriangle Right\n",
        "# '1'\tTri Down\n",
        "# '2'\tTri Up\n",
        "# '3'\tTri Left\n",
        "# '4'\tTri Right\n",
        "# '|'\tVline\n",
        "# '_'\tHline"
      ],
      "metadata": {
        "id": "B3VaMH4KLI44"
      },
      "execution_count": null,
      "outputs": []
    },
    {
      "cell_type": "code",
      "source": [
        "import matplotlib.pyplot as plt\n",
        "import numpy as np\n",
        "\n",
        "ypoints = np.array([3, 8, 1, 10])\n",
        "# define the fmt\n",
        "plt.plot(ypoints, 'o:r')\n",
        "plt.show()\n",
        "# You can use also use the shortcut string notation parameter to specify the marker.\n",
        "# This parameter is also called fmt, and is written with this syntax:\n",
        "# marker|line|color"
      ],
      "metadata": {
        "id": "-rghFjMMLSJv"
      },
      "execution_count": null,
      "outputs": []
    },
    {
      "cell_type": "code",
      "source": [
        "# other fmt\n",
        "# '-'\tSolid line\n",
        "# ':'\tDotted line\n",
        "# '--'\tDashed line\n",
        "# '-.'\tDashed/dotted line\n",
        "# other color reference\n",
        "# 'r'\tRed\n",
        "# 'g'\tGreen\n",
        "# 'b'\tBlue\n",
        "# 'c'\tCyan\n",
        "# 'm'\tMagenta\n",
        "# 'y'\tYellow\n",
        "# 'k'\tBlack\n",
        "# 'w'\tWhite"
      ],
      "metadata": {
        "id": "IFqfZ2OVLwnC"
      },
      "execution_count": null,
      "outputs": []
    },
    {
      "cell_type": "code",
      "source": [
        "import matplotlib.pyplot as plt\n",
        "import numpy as np\n",
        "\n",
        "ypoints = np.array([3, 8, 1, 10])\n",
        "# define marker size\n",
        "plt.plot(ypoints, marker = 'o', ms = 20)\n",
        "plt.show()\n",
        "# You can use the keyword argument markersize or the shorter version, ms to set the size of the markers:"
      ],
      "metadata": {
        "id": "wsezAeFKL5Ye"
      },
      "execution_count": null,
      "outputs": []
    },
    {
      "cell_type": "code",
      "source": [
        "import matplotlib.pyplot as plt\n",
        "import numpy as np\n",
        "\n",
        "ypoints = np.array([3, 8, 1, 10])\n",
        "\n",
        "plt.plot(ypoints, marker = 'o', ms = 20, mec = 'r')\n",
        "plt.show()\n",
        "# You can use the keyword argument markeredgecolor or the shorter mec to set the color of the edge of the markers:"
      ],
      "metadata": {
        "id": "OZQ-xFfeMTZE"
      },
      "execution_count": null,
      "outputs": []
    },
    {
      "cell_type": "code",
      "source": [
        "import matplotlib.pyplot as plt\n",
        "import numpy as np\n",
        "\n",
        "ypoints = np.array([3, 8, 1, 10])\n",
        "# Set the FACE color to red\n",
        "plt.plot(ypoints, marker = 'o', ms = 20, mfc = 'r')\n",
        "plt.show()\n",
        "# You can use the keyword argument markerfacecolor or the shorter mfc to set the color inside the edge of the markers:"
      ],
      "metadata": {
        "id": "krY0OgzuMfuT"
      },
      "execution_count": null,
      "outputs": []
    },
    {
      "cell_type": "code",
      "source": [
        "import matplotlib.pyplot as plt\n",
        "import numpy as np\n",
        "\n",
        "ypoints = np.array([3, 8, 1, 10])\n",
        "# Use a dotted line\n",
        "plt.plot(ypoints, linestyle = 'dotted')\n",
        "plt.show()\n",
        "# You can use the keyword argument linestyle, or shorter ls, to change the style of the plotted line:"
      ],
      "metadata": {
        "id": "-Zqco2JZMoeA"
      },
      "execution_count": null,
      "outputs": []
    },
    {
      "cell_type": "code",
      "source": [
        "# the line style can be written in a shorter syntax:\n",
        "\n",
        "# linestyleT can be written as ls.\n",
        "\n",
        "# dotted can be written as :.\n",
        "\n",
        "# dashed can be written as --.\n",
        "\n",
        "# 'solid' (default)\t'-'\n",
        "# 'dotted'\t':'\n",
        "# 'dashed'\t'--'\n",
        "# 'dashdot'\t'-.'\n",
        "# 'None'\t'' or ' '"
      ],
      "metadata": {
        "id": "Af3WdC8ANGXd"
      },
      "execution_count": null,
      "outputs": []
    },
    {
      "cell_type": "code",
      "source": [
        "import matplotlib.pyplot as plt\n",
        "import numpy as np\n",
        "\n",
        "ypoints = np.array([3, 8, 1, 10])\n",
        "# Set the line color to red:\n",
        "plt.plot(ypoints, color = 'r')\n",
        "plt.show()\n",
        "# You can use the keyword argument color or the shorter c to set the color of the line:"
      ],
      "metadata": {
        "id": "ej_A3IDQNTEF"
      },
      "execution_count": null,
      "outputs": []
    },
    {
      "cell_type": "code",
      "source": [
        "import matplotlib.pyplot as plt\n",
        "import numpy as np\n",
        "\n",
        "ypoints = np.array([3, 8, 1, 10])\n",
        "# Plot with a 20.5pt wide line:\n",
        "plt.plot(ypoints, linewidth = '20.5')\n",
        "plt.show()\n",
        "You can use the keyword argument linewidth or the shorter lw to change the width of the line.\n",
        "\n",
        "# The value is a floating number, in points:"
      ],
      "metadata": {
        "id": "XrH7Jo-QNk1o"
      },
      "execution_count": null,
      "outputs": []
    },
    {
      "cell_type": "code",
      "source": [
        "import matplotlib.pyplot as plt\n",
        "import numpy as np\n",
        "\n",
        "y1 = np.array([3, 8, 1, 10])\n",
        "y2 = np.array([6, 2, 7, 11])\n",
        "# Draw two lines by specifying a plt.plot() function for each line:\n",
        "plt.plot(y1)\n",
        "plt.plot(y2)\n",
        "\n",
        "plt.show()\n",
        "# You can plot as many lines as you like by simply adding more plt.plot() functions:"
      ],
      "metadata": {
        "id": "JfkxPiTHNxeT"
      },
      "execution_count": null,
      "outputs": []
    },
    {
      "cell_type": "code",
      "source": [
        "import numpy as np\n",
        "import matplotlib.pyplot as plt\n",
        "\n",
        "x = np.array([80, 85, 90, 95, 100, 105, 110, 115, 120, 125])\n",
        "y = np.array([240, 250, 260, 270, 280, 290, 300, 310, 320, 330])\n",
        "\n",
        "plt.plot(x, y)\n",
        "# Add labels to the x- and y-axis:\n",
        "plt.xlabel(\"Average Pulse\")\n",
        "plt.ylabel(\"Calorie Burnage\")\n",
        "\n",
        "plt.show()\n",
        "# With Pyplot, you can use the xlabel() and ylabel() functions to set a label for the x- and y-axis."
      ],
      "metadata": {
        "id": "RlafYEbBN9Mj"
      },
      "execution_count": null,
      "outputs": []
    },
    {
      "cell_type": "code",
      "source": [
        "import numpy as np\n",
        "import matplotlib.pyplot as plt\n",
        "\n",
        "x = np.array([80, 85, 90, 95, 100, 105, 110, 115, 120, 125])\n",
        "y = np.array([240, 250, 260, 270, 280, 290, 300, 310, 320, 330])\n",
        "\n",
        "plt.plot(x, y)\n",
        "# Add a plot title and labels for the x- and y-axis:\n",
        "plt.title(\"Sports Watch Data\")\n",
        "plt.xlabel(\"Average Pulse\")\n",
        "plt.ylabel(\"Calorie Burnage\")\n",
        "\n",
        "plt.show()"
      ],
      "metadata": {
        "id": "XM7ww6AxOSNh"
      },
      "execution_count": null,
      "outputs": []
    },
    {
      "cell_type": "code",
      "source": [
        "import numpy as np\n",
        "import matplotlib.pyplot as plt\n",
        "\n",
        "x = np.array([80, 85, 90, 95, 100, 105, 110, 115, 120, 125])\n",
        "y = np.array([240, 250, 260, 270, 280, 290, 300, 310, 320, 330])\n",
        "\n",
        "font1 = {'family':'serif','color':'blue','size':20}\n",
        "font2 = {'family':'serif','color':'darkred','size':15}\n",
        "# Set font properties for the title and labels:\n",
        "plt.title(\"Sports Watch Data\", fontdict = font1)\n",
        "plt.xlabel(\"Average Pulse\", fontdict = font2)\n",
        "plt.ylabel(\"Calorie Burnage\", fontdict = font2)\n",
        "\n",
        "plt.plot(x, y)\n",
        "plt.show()\n",
        "# You can use the fontdict parameter in xlabel(), ylabel(), and title() to set font properties for the title and labels."
      ],
      "metadata": {
        "id": "RMqXwNf8Oh7H"
      },
      "execution_count": null,
      "outputs": []
    },
    {
      "cell_type": "code",
      "source": [
        "import numpy as np\n",
        "import matplotlib.pyplot as plt\n",
        "\n",
        "x = np.array([80, 85, 90, 95, 100, 105, 110, 115, 120, 125])\n",
        "y = np.array([240, 250, 260, 270, 280, 290, 300, 310, 320, 330])\n",
        "# Position the title to the left:\n",
        "plt.title(\"Sports Watch Data\", loc = 'left')\n",
        "plt.xlabel(\"Average Pulse\")\n",
        "plt.ylabel(\"Calorie Burnage\")\n",
        "\n",
        "plt.plot(x, y)\n",
        "plt.show()\n",
        "# You can use the loc parameter in title() to position the titleb\n",
        "# Legal values are: 'left', 'right', and 'center'. Default value is 'center'"
      ],
      "metadata": {
        "id": "5yFlbNbsO7T7"
      },
      "execution_count": null,
      "outputs": []
    },
    {
      "cell_type": "code",
      "source": [
        "import numpy as np\n",
        "import matplotlib.pyplot as plt\n",
        "\n",
        "x = np.array([80, 85, 90, 95, 100, 105, 110, 115, 120, 125])\n",
        "y = np.array([240, 250, 260, 270, 280, 290, 300, 310, 320, 330])\n",
        "\n",
        "plt.title(\"Sports Watch Data\")\n",
        "plt.xlabel(\"Average Pulse\")\n",
        "plt.ylabel(\"Calorie Burnage\")\n",
        "\n",
        "plt.plot(x, y)\n",
        "# Add grid lines to the plot:\n",
        "plt.grid()\n",
        "\n",
        "plt.show()\n",
        "# With Pyplot, you can use the grid() function to add grid lines to the plot."
      ],
      "metadata": {
        "id": "EMnWuB2CQPtl"
      },
      "execution_count": null,
      "outputs": []
    },
    {
      "cell_type": "code",
      "source": [
        "import numpy as np\n",
        "import matplotlib.pyplot as plt\n",
        "\n",
        "x = np.array([80, 85, 90, 95, 100, 105, 110, 115, 120, 125])\n",
        "y = np.array([240, 250, 260, 270, 280, 290, 300, 310, 320, 330])\n",
        "\n",
        "plt.title(\"Sports Watch Data\")\n",
        "plt.xlabel(\"Average Pulse\")\n",
        "plt.ylabel(\"Calorie Burnage\")\n",
        "\n",
        "plt.plot(x, y)\n",
        "# Display only grid lines for the x-axis:\n",
        "plt.grid(axis = 'x')\n",
        "\n",
        "# plt.show()You can use the axis parameter in the grid() function to specify which grid lines to display.\n",
        "\n",
        "# Legal values are: 'x', 'y', and 'both'. Default value is 'both'.\n"
      ],
      "metadata": {
        "id": "olBG5lNiQpLO"
      },
      "execution_count": null,
      "outputs": []
    },
    {
      "cell_type": "code",
      "source": [
        "# to be continued"
      ],
      "metadata": {
        "id": "S2LuUmibQ-CX"
      },
      "execution_count": null,
      "outputs": []
    }
  ],
  "metadata": {
    "colab": {
      "provenance": [],
      "authorship_tag": "ABX9TyPQTwlqdp0ycYJjgfayuFPT",
      "include_colab_link": true
    },
    "kernelspec": {
      "display_name": "Python 3",
      "name": "python3"
    },
    "language_info": {
      "name": "python"
    }
  },
  "nbformat": 4,
  "nbformat_minor": 0
}